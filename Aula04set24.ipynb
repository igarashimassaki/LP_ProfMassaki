{
  "nbformat": 4,
  "nbformat_minor": 0,
  "metadata": {
    "colab": {
      "provenance": [],
      "authorship_tag": "ABX9TyNAIR9dduybxp7QYiKaYKK1",
      "include_colab_link": true
    },
    "kernelspec": {
      "name": "python3",
      "display_name": "Python 3"
    },
    "language_info": {
      "name": "python"
    }
  },
  "cells": [
    {
      "cell_type": "markdown",
      "metadata": {
        "id": "view-in-github",
        "colab_type": "text"
      },
      "source": [
        "<a href=\"https://colab.research.google.com/github/igarashimassaki/LP_ProfMassaki/blob/main/Aula04set24.ipynb\" target=\"_parent\"><img src=\"https://colab.research.google.com/assets/colab-badge.svg\" alt=\"Open In Colab\"/></a>"
      ]
    },
    {
      "cell_type": "markdown",
      "source": [
        "#**Ex.05 - Aula LP02)**\n",
        "#Na parte de texto explicativo, o Hashtag é símbolo em linguagem MARKDOWN usado para formatação TÍTULO"
      ],
      "metadata": {
        "id": "Da_m7UDMJ7e0"
      }
    },
    {
      "cell_type": "code",
      "execution_count": 1,
      "metadata": {
        "colab": {
          "base_uri": "https://localhost:8080/"
        },
        "id": "gJrWZLwzJs9i",
        "outputId": "877558f1-10bb-425f-d51b-86ffea0d51c0"
      },
      "outputs": [
        {
          "output_type": "stream",
          "name": "stdout",
          "text": [
            "Digite valor em polegadas: 2\n",
            "50.8\n"
          ]
        }
      ],
      "source": [
        "#Hashtag é comentário na parte onde eu programo\n",
        "P = float(input(\"Digite valor em polegadas: \"))\n",
        "mm = P * 25.4\n",
        "print(mm)"
      ]
    }
  ]
}